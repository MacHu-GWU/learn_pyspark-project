{
 "cells": [
  {
   "cell_type": "markdown",
   "id": "0844b825-bdce-4ba5-81d2-ae21fe42ebf3",
   "metadata": {},
   "source": [
    "# If Then Else and Switch Pattern"
   ]
  },
  {
   "cell_type": "code",
   "execution_count": 3,
   "id": "605ea975-ae45-4804-8288-36e46b5b624b",
   "metadata": {},
   "outputs": [
    {
     "data": {
      "text/html": [
       "\n",
       "            <div>\n",
       "                <p><b>SparkSession - in-memory</b></p>\n",
       "                \n",
       "        <div>\n",
       "            <p><b>SparkContext</b></p>\n",
       "\n",
       "            <p><a href=\"http://49ba060e6716:4040\">Spark UI</a></p>\n",
       "\n",
       "            <dl>\n",
       "              <dt>Version</dt>\n",
       "                <dd><code>v3.3.0</code></dd>\n",
       "              <dt>Master</dt>\n",
       "                <dd><code>local[*]</code></dd>\n",
       "              <dt>AppName</dt>\n",
       "                <dd><code>pyspark-shell</code></dd>\n",
       "            </dl>\n",
       "        </div>\n",
       "        \n",
       "            </div>\n",
       "        "
      ],
      "text/plain": [
       "<pyspark.sql.session.SparkSession at 0xffff7b980310>"
      ]
     },
     "execution_count": 3,
     "metadata": {},
     "output_type": "execute_result"
    }
   ],
   "source": [
    "from pyspark.sql import SparkSession\n",
    "from pyspark.sql import functions as F\n",
    "\n",
    "spark = SparkSession.builder.getOrCreate()\n",
    "spark"
   ]
  },
  {
   "cell_type": "markdown",
   "id": "9629768f-d548-462d-9702-c73afa6e2f4f",
   "metadata": {},
   "source": [
    "## Use when otherwise Function on DataFrame"
   ]
  },
  {
   "cell_type": "code",
   "execution_count": 7,
   "id": "7e2d96eb-d3a7-456c-b3bc-e6f60454f292",
   "metadata": {},
   "outputs": [
    {
     "name": "stdout",
     "output_type": "stream",
     "text": [
      "+---+--------+\n",
      "| id|category|\n",
      "+---+--------+\n",
      "|  1|      c1|\n",
      "|  2|      c2|\n",
      "|  3|      c3|\n",
      "+---+--------+\n",
      "\n"
     ]
    }
   ],
   "source": [
    "pdf = spark.createDataFrame(\n",
    "    [\n",
    "        (1, \"c1\"),\n",
    "        (2, \"c2\"),\n",
    "        (3, \"c3\"),\n",
    "    ],\n",
    "    (\"id\", \"category\")\n",
    ")\n",
    "pdf.show()"
   ]
  },
  {
   "cell_type": "code",
   "execution_count": 23,
   "id": "0b34d3ce-f00a-41ab-bc0c-8f4c81cf994a",
   "metadata": {},
   "outputs": [
    {
     "name": "stdout",
     "output_type": "stream",
     "text": [
      "+---+--------+--------------------+\n",
      "| id|category|category_description|\n",
      "+---+--------+--------------------+\n",
      "|  1|      c1|  this is category 1|\n",
      "|  2|      c2|  this is category 2|\n",
      "|  3|      c3|    unknown category|\n",
      "+---+--------+--------------------+\n",
      "\n"
     ]
    }
   ],
   "source": [
    "pdf.withColumn(\n",
    "    \"category_description\",\n",
    "    (\n",
    "        F.when(pdf.category == \"c1\", \"this is category 1\")\n",
    "        .when(pdf.category == \"c2\", \"this is category 2\")\n",
    "        .otherwise(\"unknown category\")\n",
    "    )\n",
    ").show()"
   ]
  },
  {
   "cell_type": "code",
   "execution_count": 22,
   "id": "78d8fe75-a2cb-4848-aa0e-d8beab8caa0f",
   "metadata": {},
   "outputs": [
    {
     "name": "stdout",
     "output_type": "stream",
     "text": [
      "+---+--------+--------------------+\n",
      "| id|category|category_description|\n",
      "+---+--------+--------------------+\n",
      "|  1|      c1|  this is category 1|\n",
      "|  2|      c2|  this is category 2|\n",
      "|  3|      c3|                  c3|\n",
      "+---+--------+--------------------+\n",
      "\n"
     ]
    }
   ],
   "source": [
    "pdf.withColumn(\n",
    "    \"category_description\",\n",
    "    (\n",
    "        F.when(pdf.category == \"c1\", \"this is category 1\")\n",
    "        .when(pdf.category == \"c2\", \"this is category 2\")\n",
    "        .otherwise(pdf.category)\n",
    "    )\n",
    ").show()"
   ]
  },
  {
   "cell_type": "markdown",
   "id": "ee366c52-dd67-4217-8f2e-e9624ff6777b",
   "metadata": {},
   "source": [
    "## Using CASE WHEN THEN ELSE END on PySpark SQL"
   ]
  },
  {
   "cell_type": "code",
   "execution_count": 21,
   "id": "ae400a2f-f092-4c1d-9e5a-7220c4321bbe",
   "metadata": {},
   "outputs": [
    {
     "name": "stdout",
     "output_type": "stream",
     "text": [
      "+---+--------+--------------------+\n",
      "| id|category|category_description|\n",
      "+---+--------+--------------------+\n",
      "|  1|      c1|  this is category 1|\n",
      "|  2|      c2|  this is category 2|\n",
      "|  3|      c3|    unknown category|\n",
      "+---+--------+--------------------+\n",
      "\n"
     ]
    }
   ],
   "source": [
    "pdf.createOrReplaceTempView(\"items\")\n",
    "sql = \"\"\"\n",
    "SELECT \n",
    "    id,\n",
    "    category,\n",
    "    CASE \n",
    "        WHEN category = 'c1' THEN 'this is category 1' \n",
    "        WHEN category = 'c2' THEN 'this is category 2' \n",
    "        ELSE 'unknown category' \n",
    "        END as category_description\n",
    "FROM items\n",
    "\"\"\".strip()\n",
    "spark.sql(sql).show()"
   ]
  },
  {
   "cell_type": "markdown",
   "id": "8513c1ca-0d14-4d3a-ad63-412b96ba2b2e",
   "metadata": {},
   "source": [
    "## Multiple Conditions using & and | operator"
   ]
  },
  {
   "cell_type": "code",
   "execution_count": 18,
   "id": "8e0ddb75-5d7e-4573-ae09-b11213d98097",
   "metadata": {},
   "outputs": [
    {
     "name": "stdout",
     "output_type": "stream",
     "text": [
      "+---+--------+--------------------+\n",
      "| id|category|category_description|\n",
      "+---+--------+--------------------+\n",
      "|  1|      c1|      known category|\n",
      "|  2|      c2|      known category|\n",
      "|  3|      c3|    unknown category|\n",
      "+---+--------+--------------------+\n",
      "\n"
     ]
    }
   ],
   "source": [
    "pdf.withColumn(\n",
    "    \"category_description\",\n",
    "    (\n",
    "        F.when(\n",
    "            (F.col(\"category\") == \"c1\") | (F.col(\"category\") == \"c2\"),\n",
    "            \"known category\",\n",
    "        )\n",
    "        .otherwise(\"unknown category\")\n",
    "    )\n",
    ").show()"
   ]
  },
  {
   "cell_type": "code",
   "execution_count": null,
   "id": "0c993966-e3c7-4524-a4b3-f759440e092e",
   "metadata": {},
   "outputs": [],
   "source": []
  }
 ],
 "metadata": {
  "kernelspec": {
   "display_name": "Python 3 (ipykernel)",
   "language": "python",
   "name": "python3"
  },
  "language_info": {
   "codemirror_mode": {
    "name": "ipython",
    "version": 3
   },
   "file_extension": ".py",
   "mimetype": "text/x-python",
   "name": "python",
   "nbconvert_exporter": "python",
   "pygments_lexer": "ipython3",
   "version": "3.10.6"
  }
 },
 "nbformat": 4,
 "nbformat_minor": 5
}
