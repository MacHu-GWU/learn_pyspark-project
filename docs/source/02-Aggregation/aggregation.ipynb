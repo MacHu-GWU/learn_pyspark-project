{
 "cells": [
  {
   "cell_type": "code",
   "execution_count": 1,
   "id": "f7460206-7d3e-4874-828b-5d66c77b4de8",
   "metadata": {},
   "outputs": [
    {
     "name": "stdout",
     "output_type": "stream",
     "text": [
      "Current directory: /home/jovyan/docs/source/02-Aggregation\n",
      "Current Python version: 3.10.5\n",
      "Current Python interpreter: /opt/conda/bin/python\n",
      "Current site-packages: ['/opt/conda/lib/python3.10/site-packages']\n"
     ]
    }
   ],
   "source": [
    "import os\n",
    "import sys\n",
    "import site\n",
    "\n",
    "cwd = os.getcwd()\n",
    "print(f\"Current directory: {cwd}\")\n",
    "print(f\"Current Python version: {sys.version_info.major}.{sys.version_info.minor}.{sys.version_info.micro}\")\n",
    "print(f\"Current Python interpreter: {sys.executable}\")\n",
    "print(f\"Current site-packages: {site.getsitepackages()}\")\n",
    "\n",
    "sys.path.append(os.path.join(cwd, \"site-packages\"))"
   ]
  },
  {
   "cell_type": "markdown",
   "id": "94c0b122-f936-4268-8791-c89805227e7c",
   "metadata": {},
   "source": [
    "\n",
    "rows[0].toDict()"
   ]
  },
  {
   "cell_type": "code",
   "execution_count": 3,
   "id": "9b8aa5fd-2d40-4cf9-85d8-c4df81ac4a0f",
   "metadata": {},
   "outputs": [
    {
     "data": {
      "text/html": [
       "\n",
       "            <div>\n",
       "                <p><b>SparkSession - in-memory</b></p>\n",
       "                \n",
       "        <div>\n",
       "            <p><b>SparkContext</b></p>\n",
       "\n",
       "            <p><a href=\"http://765d38fcb1f3:4041\">Spark UI</a></p>\n",
       "\n",
       "            <dl>\n",
       "              <dt>Version</dt>\n",
       "                <dd><code>v3.3.0</code></dd>\n",
       "              <dt>Master</dt>\n",
       "                <dd><code>local[*]</code></dd>\n",
       "              <dt>AppName</dt>\n",
       "                <dd><code>pyspark-shell</code></dd>\n",
       "            </dl>\n",
       "        </div>\n",
       "        \n",
       "            </div>\n",
       "        "
      ],
      "text/plain": [
       "<pyspark.sql.session.SparkSession at 0xffff966ec550>"
      ]
     },
     "execution_count": 3,
     "metadata": {},
     "output_type": "execute_result"
    }
   ],
   "source": [
    "from pyspark.sql import SparkSession\n",
    "\n",
    "spark = SparkSession.builder.getOrCreate()\n",
    "spark"
   ]
  },
  {
   "cell_type": "code",
   "execution_count": 4,
   "id": "75154b97-b347-484f-8968-a6013100a72c",
   "metadata": {},
   "outputs": [
    {
     "name": "stdout",
     "output_type": "stream",
     "text": [
      "+--------+----------+------+\n",
      "|order_id|      date|amount|\n",
      "+--------+----------+------+\n",
      "|       1|2022-01-01|     5|\n",
      "|       2|2022-01-01|     8|\n",
      "|       3|2022-01-01|     2|\n",
      "|       4|2022-01-02|     9|\n",
      "|       5|2022-01-02|    10|\n",
      "|       6|2022-01-02|     7|\n",
      "|       7|2022-01-03|     1|\n",
      "|       8|2022-01-03|     4|\n",
      "|       9|2022-01-03|     6|\n",
      "|      10|2022-01-03|     3|\n",
      "+--------+----------+------+\n",
      "\n"
     ]
    }
   ],
   "source": [
    "# Create from Python list of tuple\n",
    "pdf = spark.createDataFrame(\n",
    "    [\n",
    "        (1, \"2022-01-01\", 5),\n",
    "        (2, \"2022-01-01\", 8),\n",
    "        (3, \"2022-01-01\", 2),\n",
    "        (4, \"2022-01-02\", 9),\n",
    "        (5, \"2022-01-02\", 10),\n",
    "        (6, \"2022-01-02\", 7),\n",
    "        (7, \"2022-01-03\", 1),\n",
    "        (8, \"2022-01-03\", 4),\n",
    "        (9, \"2022-01-03\", 6),\n",
    "        (10, \"2022-01-03\", 3),\n",
    "    ],\n",
    "    (\"order_id\", \"date\", \"amount\")\n",
    ")\n",
    "pdf.show()"
   ]
  },
  {
   "cell_type": "code",
   "execution_count": null,
   "id": "fc2aa99e-af41-4bc6-831f-82e236d45206",
   "metadata": {},
   "outputs": [],
   "source": [
    "pdf.agg()"
   ]
  }
 ],
 "metadata": {
  "kernelspec": {
   "display_name": "Python 3 (ipykernel)",
   "language": "python",
   "name": "python3"
  },
  "language_info": {
   "codemirror_mode": {
    "name": "ipython",
    "version": 3
   },
   "file_extension": ".py",
   "mimetype": "text/x-python",
   "name": "python",
   "nbconvert_exporter": "python",
   "pygments_lexer": "ipython3",
   "version": "3.10.5"
  }
 },
 "nbformat": 4,
 "nbformat_minor": 5
}
